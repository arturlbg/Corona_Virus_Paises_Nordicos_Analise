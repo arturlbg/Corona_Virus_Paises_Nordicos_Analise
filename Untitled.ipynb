{
 "cells": [
  {
   "cell_type": "code",
   "execution_count": 28,
   "metadata": {},
   "outputs": [
    {
     "data": {
      "text/plain": [
       "count    216519.000000\n",
       "mean          7.110166\n",
       "std          84.875387\n",
       "min       -1812.000000\n",
       "25%           0.000000\n",
       "50%           0.000000\n",
       "75%           1.000000\n",
       "max        8822.000000\n",
       "Name: casosNovos, dtype: float64"
      ]
     },
     "execution_count": 28,
     "metadata": {},
     "output_type": "execute_result"
    }
   ],
   "source": [
    "import numpy as np\n",
    "import pandas as pd\n",
    "import statistics\n",
    "\n",
    "\n",
    "covid_BR = pd.read_csv('covid.csv', low_memory=False, index_col=0)\n",
    "\n",
    "covid_Nordeste = covid_BR.query('regiao == \"Nordeste\" & data < \"2020-07-25\"')\n",
    "covid_Sul = covid_BR.query('regiao == \"Sul\" & data < \"2020-07-25\"')\n",
    "covid_Sudeste = covid_BR.query('regiao == \"Sudeste\" & data < \"2020-07-25\"')\n",
    "covid_Norte = covid_BR.query('regiao == \"Norte\" & data < \"2020-07-25\"')\n",
    "\n",
    "covid_Nordeste['casosNovos'].describe()\n",
    "\n"
   ]
  }
 ],
 "metadata": {
  "kernelspec": {
   "display_name": "Python 3",
   "language": "python",
   "name": "python3"
  },
  "language_info": {
   "codemirror_mode": {
    "name": "ipython",
    "version": 3
   },
   "file_extension": ".py",
   "mimetype": "text/x-python",
   "name": "python",
   "nbconvert_exporter": "python",
   "pygments_lexer": "ipython3",
   "version": "3.7.6"
  }
 },
 "nbformat": 4,
 "nbformat_minor": 4
}
